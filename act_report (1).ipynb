{
 "cells": [
  {
   "cell_type": "markdown",
   "metadata": {},
   "source": [
    "## The most popular tweets on #WeRateDogs @dog_rates between 2015 and 2017"
   ]
  },
  {
   "cell_type": "markdown",
   "metadata": {},
   "source": [
    "__Introduction__ <br>\n",
    "WeRateDogs is a Twitter account that rates people's dogs with a humorous comment about the dog. The account was started in 2015 by college student Matt Nelson and has, as of October 2022, 9.3 million followers. Within the first 2 years the account reached 3 million followers which was followed by the publication of a book named “#WeRateDogs: The Most Hilarious and Adorable Pups You’ve Ever Seen”, in the fall of 2017$^{1}$. This articles looks into the most common tweeted dog breeds and most popular tweets posted during these first two years after foundation, from November 2015 till August 2017. But first, what rating system does WeRateDogs apply and to what extent does a dog's rating says something about its favourability? <br>"
   ]
  },
  {
   "cell_type": "markdown",
   "metadata": {},
   "source": [
    "__The rating system of WeRateDogs__ <br>\n",
    "The rating system of WeRateDogs is somewhat unusual in the sense that it, on a 1-to-10 scale, allows ratings exceeding 10 (e.g. 12/10). In fact, based on data from 2015-2017, ratings above 10/10 are, with 75%, more common than ratings of 10/10 or below. The lowest rating given is 0, the highest rating 14/10 and the most common rating is 12/10. While the most liked tweets generally concern highly rated dogs, the two are not correlated. That is, higher rated dogs don't necessarily receive more likes. <br>"
   ]
  },
  {
   "cell_type": "code",
   "execution_count": 1,
   "metadata": {},
   "outputs": [
    {
     "data": {
      "text/html": [
       "<img src=\"Figures_report/rating_distribution.jpeg\"/>"
      ],
      "text/plain": [
       "<IPython.core.display.Image object>"
      ]
     },
     "execution_count": 1,
     "metadata": {},
     "output_type": "execute_result"
    }
   ],
   "source": [
    "from IPython.display import Image\n",
    "Image(url= \"Figures_report/rating_distribution.jpeg\")"
   ]
  },
  {
   "cell_type": "markdown",
   "metadata": {},
   "source": [
    "![](Figures_report/rating_distribution.jpeg)"
   ]
  },
  {
   "cell_type": "markdown",
   "metadata": {},
   "source": [
    "![](Figures_report/rating_vs_likes.jpeg)"
   ]
  },
  {
   "cell_type": "markdown",
   "metadata": {},
   "source": [
    "__The most occurring dog breeds on WeRateDogs between 2015 and 2017__ <br>\n",
    "Of all dog images posted on WeRateDogs during the first 2 years 113 different dog breeds were detected after running the images through a neural network that can detect dog breeds$^{2}$. The 10 most common dog breeds being: <br>\n",
    "\n",
    "\n",
    "![](Figures_report/most_common_dogbreeds.jpeg)"
   ]
  },
  {
   "cell_type": "markdown",
   "metadata": {},
   "source": [
    "__The most popular tweets on WeRateDogs between 2015 and 2017__ <br>\n",
    "With 143941 likes and 70141 retweets, the most popular tweet is of a swimming labrador retriever (follow the link in the list below the image to see the original post on twitter including video). The entire top 10 of most popular tweets (including number of likes and retweets in the lower figure): <br>\n",
    "\n",
    "\n",
    "![](Figures_report/most_popular_dogs.jpeg)"
   ]
  },
  {
   "cell_type": "markdown",
   "metadata": {},
   "source": [
    "Corresponding links:\n",
    "\n",
    "|rank|tweet url|\n",
    "|-----|-----|\n",
    "|1.| https://twitter.com/dog_rates/status/744234799360020481/video/1 |\n",
    "|2.| https://twitter.com/dog_rates/status/822872901745569793/photo/1 |\n",
    "|3.| https://twitter.com/dog_rates/status/807106840509214720/video/1 |\n",
    "|4.| https://twitter.com/dog_rates/status/739238157791694849/video/1 |\n",
    "|5.| https://twitter.com/dog_rates/status/866450705531457537/photo/1 |\n",
    "|6.| https://twitter.com/dog_rates/status/879415818425184262/video/1 |\n",
    "|7.| https://twitter.com/dog_rates/status/819004803107983360/photo/1 |\n",
    "|8.| https://twitter.com/dog_rates/status/859196978902773760/video/1 |\n",
    "|9.| https://twitter.com/dog_rates/status/806629075125202948/photo/1 |\n",
    "|10.| https://twitter.com/dog_rates/status/678399652199309312/video/1 | <br>\n",
    "\n",
    "\n",
    "![](Figures_report/most_popular_tweets.jpeg)"
   ]
  },
  {
   "cell_type": "markdown",
   "metadata": {},
   "source": [
    "### Sources:\n",
    "$^{1}$ https://www.salon.com/2017/10/01/the-founder-of-weratedogs-on-being-a-professional-dog-rater/ <br>\n",
    "$^{2}$ The data on dog breed prediction were provided by __Udacity__. "
   ]
  },
  {
   "cell_type": "code",
   "execution_count": 10,
   "metadata": {},
   "outputs": [
    {
     "data": {
      "text/html": [
       "<style>\n",
       "table {float:left}\n",
       "<?style>"
      ],
      "text/plain": [
       "<IPython.core.display.HTML object>"
      ]
     },
     "metadata": {},
     "output_type": "display_data"
    }
   ],
   "source": [
    "%%html\n",
    "<style>\n",
    "table {float:left}\n",
    "<?style>"
   ]
  },
  {
   "cell_type": "code",
   "execution_count": 11,
   "metadata": {},
   "outputs": [],
   "source": [
    "%%capture\n",
    "!jupyter nbconvert --to html --no-input --no-prompt act_report.ipynb"
   ]
  },
  {
   "cell_type": "code",
   "execution_count": null,
   "metadata": {},
   "outputs": [],
   "source": []
  }
 ],
 "metadata": {
  "kernelspec": {
   "display_name": "Python 3",
   "language": "python",
   "name": "python3"
  },
  "language_info": {
   "codemirror_mode": {
    "name": "ipython",
    "version": 3
   },
   "file_extension": ".py",
   "mimetype": "text/x-python",
   "name": "python",
   "nbconvert_exporter": "python",
   "pygments_lexer": "ipython3",
   "version": "3.6.3"
  }
 },
 "nbformat": 4,
 "nbformat_minor": 2
}
